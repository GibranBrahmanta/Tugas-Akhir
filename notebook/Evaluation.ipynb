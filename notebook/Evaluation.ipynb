{
 "cells": [
  {
   "cell_type": "code",
   "execution_count": null,
   "id": "ca6c757e",
   "metadata": {},
   "outputs": [],
   "source": [
    "# Import used modules\n",
    "\n",
    "from pyrouge import Rouge155\n",
    "from tqdm import tqdm_notebook as tqdm\n",
    "\n",
    "import os\n",
    "import pandas as pd\n",
    "import json\n",
    "import logging"
   ]
  },
  {
   "cell_type": "code",
   "execution_count": null,
   "id": "d1180ed2",
   "metadata": {},
   "outputs": [],
   "source": [
    "# Configure filepath\n",
    "\n",
    "os.chdir(\"../model_result/\")\n",
    "logging.disable(logging.CRITICAL)"
   ]
  },
  {
   "cell_type": "markdown",
   "id": "14d26c47",
   "metadata": {},
   "source": [
    "# Create Helper Function"
   ]
  },
  {
   "cell_type": "code",
   "execution_count": null,
   "id": "61dd75ea",
   "metadata": {},
   "outputs": [],
   "source": [
    "def create_sent(document):\n",
    "    \"\"\"Convert list of word into a sentences\n",
    "\n",
    "    Parameters\n",
    "    ----------\n",
    "    lst_word: two dimensional list\n",
    "        list of word\n",
    "\n",
    "    Returns\n",
    "    -------\n",
    "    string\n",
    "    \"\"\"\n",
    "    \n",
    "    res = \"\"\n",
    "    for i in range(len(document)):\n",
    "        tmp =  \" \".join(document[i]) + \"\\n\"\n",
    "        tmp = tmp.lower()\n",
    "        res += tmp\n",
    "    return res"
   ]
  },
  {
   "cell_type": "code",
   "execution_count": null,
   "id": "dd132ccb",
   "metadata": {},
   "outputs": [],
   "source": [
    "def write_to_file(path, document):\n",
    "    \"\"\"Write 'document' into a file that being specified by path\n",
    "\n",
    "    Parameters\n",
    "    ----------\n",
    "    path: string\n",
    "        file path\n",
    "    lst_word: two dimensional list\n",
    "        list of word\n",
    "\n",
    "    Returns\n",
    "    -------\n",
    "    boolean\n",
    "        True if success, vice versa\n",
    "    \"\"\"\n",
    "    \n",
    "    try:\n",
    "        sent = create_sent(document)\n",
    "        f = open(path, \"w\")\n",
    "        f.write(sent)\n",
    "        f.close()\n",
    "        return True\n",
    "    except:\n",
    "        return False"
   ]
  },
  {
   "cell_type": "code",
   "execution_count": null,
   "id": "58454287",
   "metadata": {},
   "outputs": [],
   "source": [
    "def create_folder(dest, name):\n",
    "    \"\"\"Create several folder that are needed for evaluation process of a model\n",
    "\n",
    "    Parameters\n",
    "    ----------\n",
    "    dest: string\n",
    "        name of folder that will contain the created folder\n",
    "    name: string\n",
    "        model name\n",
    "\n",
    "    Returns\n",
    "    -------\n",
    "    string\n",
    "        reference folder path and model result folder path\n",
    "    \"\"\"\n",
    "    \n",
    "    if not os.path.exists(dest):\n",
    "        os.mkdir(dest)\n",
    "    dest_format = dest + \"/{}\"\n",
    "    dest_folder = dest_format.format(name)\n",
    "    ref_folder = dest_folder + \"/reference\"\n",
    "    model_folder = dest_folder+\"/model\"\n",
    "    os.mkdir(dest_folder)\n",
    "    os.mkdir(ref_folder)\n",
    "    os.mkdir(model_folder)\n",
    "    return ref_folder, model_folder"
   ]
  },
  {
   "cell_type": "code",
   "execution_count": null,
   "id": "4874e7d5",
   "metadata": {},
   "outputs": [],
   "source": [
    "def create_file(json_obj, ref_folder, model_folder):\n",
    "    \"\"\"Write data in 'json_obj' into file on a specific folder\n",
    "\n",
    "    Parameters\n",
    "    ----------\n",
    "    json_obj: dict\n",
    "        dictionary that contains model summarization result and its reference\n",
    "    ref_model: string\n",
    "        reference folder path\n",
    "    model_folder: string\n",
    "        model result folder path\n",
    "\n",
    "    Returns\n",
    "    -------\n",
    "    None\n",
    "    \"\"\"\n",
    "    \n",
    "    counter = 0\n",
    "    for key in json_obj.keys():\n",
    "        ref_name = str(counter)+\"_reference.txt\"\n",
    "        model_name = str(counter)+\"_model.txt\"\n",
    "        res_ref = write_to_file(ref_folder+\"/\"+ref_name, json_obj[key]['reference'])\n",
    "        res_model = write_to_file(model_folder+\"/\"+model_name, json_obj[key]['hypotesis'])   \n",
    "        counter += 1"
   ]
  },
  {
   "cell_type": "code",
   "execution_count": null,
   "id": "bbcdff71",
   "metadata": {},
   "outputs": [],
   "source": [
    "def save_dct(dct, path):\n",
    "    \"\"\"Write data in 'dct' into json specified by 'path'\n",
    "\n",
    "    Parameters\n",
    "    ----------\n",
    "    dct: dict\n",
    "        dictionary that want to be written\n",
    "    path: string\n",
    "        dictionary file path\n",
    "\n",
    "    Returns\n",
    "    -------\n",
    "    None\n",
    "    \"\"\"\n",
    "    \n",
    "    with open(path, \"w\") as outfile:\n",
    "        json.dump(output_dict, outfile)"
   ]
  },
  {
   "cell_type": "markdown",
   "id": "f81d8aef",
   "metadata": {},
   "source": [
    "# Run Evaluation"
   ]
  },
  {
   "cell_type": "markdown",
   "id": "0bc020b7",
   "metadata": {},
   "source": [
    "## One File"
   ]
  },
  {
   "cell_type": "code",
   "execution_count": null,
   "id": "be8eb0e6",
   "metadata": {},
   "outputs": [],
   "source": [
    "# Calculate ROUGE on a file \n",
    "\n",
    "filename = \"\" # Fill with filepath of a file that want to be checked\n",
    "json_obj = json.load(open(filename))\n",
    "\n",
    "name = filename.split(\".\")[0]\n",
    "\n",
    "dest = \"evaluation\"\n",
    "ref_folder, model_folder = create_folder(dest, name)\n",
    "create_file(json_obj, ref_folder, model_folder)\n",
    "\n",
    "base_path = os.getcwd()\n",
    "rouge_pl = \"\"        # Fill with absolute filepath of a ROUGE-1.5.5.pl\n",
    "rouge_path = \"{}/data\".format(rouge_pl)\n",
    "conf = \"-e {} -c 95 -2 -1 -U -r 1000 -n 4 -a\".format(rouge_path)       # Fill with ROUGE configuration\n",
    "\n",
    "r = Rouge155(rouge_args=conf)\n",
    "r.system_dir = base_path + \"/\" + dest + \"/{}/reference\".format(name)\n",
    "r.model_dir = base_path + \"/\" + dest + \"/{}/model\".format(name)\n",
    "r.system_filename_pattern = '(\\d+)_reference.txt'\n",
    "r.model_filename_pattern = '#ID#_model.txt'\n",
    "output = r.convert_and_evaluate()\n",
    "\n",
    "print(output)"
   ]
  },
  {
   "cell_type": "code",
   "execution_count": null,
   "id": "8477eefd",
   "metadata": {},
   "outputs": [],
   "source": [
    "# Save evaluation result\n",
    "\n",
    "output_dict = r.output_to_dict(output)\n",
    "save_dct(output_dict, \"./{}/{}/result.json\".format(dest, name))"
   ]
  },
  {
   "cell_type": "markdown",
   "id": "d1c011ec",
   "metadata": {},
   "source": [
    "## Multiple File"
   ]
  },
  {
   "cell_type": "code",
   "execution_count": null,
   "id": "b6e05184",
   "metadata": {},
   "outputs": [],
   "source": [
    "# Fill all list with used dataset/method on all file that want to be checked\n",
    "\n",
    "lst_dataset = [\"IndoSUM\", \"Liputan6\"]\n",
    "lst_topic_modelling = [\"LDA\", \"LSA\", \"NMF\"]\n",
    "lst_embedding = [\"Word2Vec\", \"FastText\", \"TF-IDF\", \"BoW\", \"BERT\"]\n",
    "lst_similarity = [\"Cosine\", \"Euclidean\", \"Jaccard\"]\n",
    "lst_method = [\"Individual\", \"Combined\"]"
   ]
  },
  {
   "cell_type": "code",
   "execution_count": null,
   "id": "c620b0cb",
   "metadata": {},
   "outputs": [],
   "source": [
    "# Calculate ROUGE on multiple file\n",
    "\n",
    "counter = len(lst_dataset) * len(lst_topic_modelling) * len(lst_embedding) * len(lst_similarity) * len(lst_method)\n",
    "pbar = tqdm(total=counter)\n",
    "\n",
    "dest = \"evaluation\"\n",
    "base_path = os.getcwd() \n",
    "rouge_pl = \"/workspace/pyrouge/pyrouge/rouge/tools/ROUGE-1.5.5\"        # Fill with absolute filepath of a ROUGE-1.5.5.pl\n",
    "rouge_path = \"{}/data\".format(rouge_pl)\n",
    "conf = \"-e {} -c 95 -2 -1 -U -r 1000 -n 4 -a\".format(rouge_path)       # Fill with ROUGE configuration\n",
    "\n",
    "lst_res = []\n",
    "\n",
    "for dataset in lst_dataset:\n",
    "    for topic in lst_topic_modelling:\n",
    "        for embedding in lst_embedding:\n",
    "            for similarity in lst_similarity:\n",
    "                for method in lst_method:\n",
    "                    filename = \"{}-{}-{}-{}-{}.json\".format(dataset, topic, embedding, similarity, method)\n",
    "                    json_obj = json.load(open(filename))\n",
    "                    \n",
    "                    name = filename.split(\".\")[0]\n",
    "                    dest = \"evaluation\"\n",
    "                    ref_folder, model_folder = create_folder(dest, name)\n",
    "                    create_file(json_obj, ref_folder, model_folder)\n",
    "                    \n",
    "                    r = Rouge155(rouge_args=conf)\n",
    "                    r.system_dir = base_path + \"/\" + dest + \"/{}/reference\".format(name)\n",
    "                    r.model_dir = base_path + \"/\" + dest + \"/{}/model\".format(name)\n",
    "                    r.system_filename_pattern = '(\\d+)_reference.txt'\n",
    "                    r.model_filename_pattern = '#ID#_model.txt'\n",
    "                    \n",
    "                    output = r.convert_and_evaluate()\n",
    "                    output_dict = r.output_to_dict(output)\n",
    "                    lst_res.append([\n",
    "                        name,\n",
    "                        output_dict['rouge_1_f_score'],\n",
    "                        output_dict['rouge_2_f_score'],\n",
    "                        output_dict['rouge_3_f_score']\n",
    "                    ])\n",
    "                    save_dct(output_dict, \"./{}/{}/result.json\".format(dest, name))\n",
    "                    pbar.update(1)\n",
    "\n",
    "res_df = pd.DataFrame(lst_res, columns=[\"Filename\", \"ROUGE-1\", \"ROUGE-2\", \"ROUGE-3\"])\n",
    "res_df   "
   ]
  }
 ],
 "metadata": {
  "kernelspec": {
   "display_name": "Python 3 (ipykernel)",
   "language": "python",
   "name": "python3"
  },
  "language_info": {
   "codemirror_mode": {
    "name": "ipython",
    "version": 3
   },
   "file_extension": ".py",
   "mimetype": "text/x-python",
   "name": "python",
   "nbconvert_exporter": "python",
   "pygments_lexer": "ipython3",
   "version": "3.8.10"
  }
 },
 "nbformat": 4,
 "nbformat_minor": 5
}